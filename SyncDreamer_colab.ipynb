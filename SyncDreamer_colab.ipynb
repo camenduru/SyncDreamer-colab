{
  "cells": [
    {
      "cell_type": "markdown",
      "metadata": {
        "id": "view-in-github"
      },
      "source": [
        "[![Open In Colab](https://colab.research.google.com/assets/colab-badge.svg)](https://colab.research.google.com/github/camenduru/SyncDreamer-colab/blob/main/SyncDreamer_colab.ipynb)"
      ]
    },
    {
      "cell_type": "code",
      "execution_count": null,
      "metadata": {
        "id": "VjYy0F2gZIPR"
      },
      "outputs": [],
      "source": [
        "%cd /content\n",
        "!git clone -b dev https://github.com/camenduru/SyncDreamer\n",
        "%cd /content/SyncDreamer\n",
        "\n",
        "!apt -y install -qq aria2\n",
        "!aria2c --console-log-level=error -c -x 16 -s 16 -k 1M https://huggingface.co/camenduru/SyncDreamer/resolve/main/syncdreamer-pretrain.ckpt -d /content/SyncDreamer/ckpt -o syncdreamer-pretrain.ckpt\n",
        "!aria2c --console-log-level=error -c -x 16 -s 16 -k 1M https://huggingface.co/camenduru/SyncDreamer/resolve/main/ViT-L-14.pt -d /content/SyncDreamer/ckpt -o ViT-L-14.pt\n",
        "\n",
        "!pip install -q torch==2.0.1+cu118 torchvision==0.15.2+cu118 torchaudio==2.0.2+cu118 torchtext==0.15.2 torchdata==0.6.1 --extra-index-url https://download.pytorch.org/whl/cu118 -U\n",
        "\n",
        "!pip install -q omegaconf pytorch_lightning kornia einops transformers tqdm webdataset pymcubes carvekit taming-transformers-rom1504\n",
        "!pip install -q open3d nerfacc git+https://github.com/openai/CLIP.git\n",
        "# !pip install -q git+https://github.com/NVlabs/tiny-cuda-nn/#subdirectory=bindings/torch\n",
        "!pip install -q https://huggingface.co/camenduru/CoDeF/resolve/main/tinycudann-1.7-cp310-cp310-linux_x86_64.whl"
      ]
    },
    {
      "cell_type": "code",
      "execution_count": null,
      "metadata": {},
      "outputs": [],
      "source": [
        "!wget https://huggingface.co/spaces/One-2-3-45/One-2-3-45/resolve/main/demo_examples/00_zero123_lysol.png\n",
        "!python foreground_segment.py --input /content/SyncDreamer/00_zero123_lysol.png --output /content/SyncDreamer/00_zero123_lysol_out.png\n",
        "\n",
        "!python generate.py --ckpt /content/SyncDreamer/ckpt/syncdreamer-pretrain.ckpt \\\n",
        "                   --input /content/SyncDreamer/00_zero123_lysol_out.png \\\n",
        "                   --output /content/SyncDreamer \\\n",
        "                   --sample_num 4 \\\n",
        "                   --cfg_scale 2.0 \\\n",
        "                   --elevation 30 \\\n",
        "                   --crop_size 200"
      ]
    }
  ],
  "metadata": {
    "accelerator": "GPU",
    "colab": {
      "gpuType": "T4",
      "provenance": []
    },
    "kernelspec": {
      "display_name": "Python 3",
      "name": "python3"
    },
    "language_info": {
      "name": "python"
    }
  },
  "nbformat": 4,
  "nbformat_minor": 0
}
