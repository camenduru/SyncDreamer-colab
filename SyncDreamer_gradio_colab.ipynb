{
  "cells": [
    {
      "cell_type": "markdown",
      "metadata": {
        "id": "view-in-github"
      },
      "source": [
        "[![Open In Colab](https://colab.research.google.com/assets/colab-badge.svg)](https://colab.research.google.com/github/camenduru/SyncDreamer-colab/blob/main/SyncDreamer_gradio_colab.ipynb)"
      ]
    },
    {
      "cell_type": "code",
      "execution_count": null,
      "metadata": {
        "id": "VjYy0F2gZIPR"
      },
      "outputs": [],
      "source": [
        "%cd /content\n",
        "!git clone -b dev https://github.com/camenduru/SyncDreamer-hf\n",
        "%cd /content/SyncDreamer-hf\n",
        "\n",
        "!apt -y install -qq aria2\n",
        "!aria2c --console-log-level=error -c -x 16 -s 16 -k 1M https://huggingface.co/camenduru/SyncDreamer/resolve/main/syncdreamer-pretrain.ckpt -d /content/SyncDreamer-hf/ckpt -o syncdreamer-pretrain.ckpt\n",
        "!aria2c --console-log-level=error -c -x 16 -s 16 -k 1M https://huggingface.co/camenduru/SyncDreamer/resolve/main/sam_vit_h_4b8939.pth -d /content/SyncDreamer-hf/ckpt -o sam_vit_h_4b8939.pth\n",
        "!aria2c --console-log-level=error -c -x 16 -s 16 -k 1M https://huggingface.co/camenduru/SyncDreamer/resolve/main/ViT-L-14.pt -d /content/SyncDreamer-hf/ckpt -o ViT-L-14.pt\n",
        "\n",
        "!aria2c --console-log-level=error -c -x 16 -s 16 -k 1M https://huggingface.co/camenduru/SyncDreamer/resolve/main/basket.png -d /content/SyncDreamer-hf/hf_demo/examples -o basket.png\n",
        "!aria2c --console-log-level=error -c -x 16 -s 16 -k 1M https://huggingface.co/camenduru/SyncDreamer/resolve/main/cat.png -d /content/SyncDreamer-hf/hf_demo/examples -o cat.png\n",
        "!aria2c --console-log-level=error -c -x 16 -s 16 -k 1M https://huggingface.co/camenduru/SyncDreamer/resolve/main/crab.png -d /content/SyncDreamer-hf/hf_demo/examples -o crab.png\n",
        "!aria2c --console-log-level=error -c -x 16 -s 16 -k 1M https://huggingface.co/camenduru/SyncDreamer/resolve/main/elephant.png -d /content/SyncDreamer-hf/hf_demo/examples -o elephant.png\n",
        "!aria2c --console-log-level=error -c -x 16 -s 16 -k 1M https://huggingface.co/camenduru/SyncDreamer/resolve/main/flower.png -d /content/SyncDreamer-hf/hf_demo/examples -o flower.png\n",
        "!aria2c --console-log-level=error -c -x 16 -s 16 -k 1M https://huggingface.co/camenduru/SyncDreamer/resolve/main/forest.png -d /content/SyncDreamer-hf/hf_demo/examples -o forest.png\n",
        "!aria2c --console-log-level=error -c -x 16 -s 16 -k 1M https://huggingface.co/camenduru/SyncDreamer/resolve/main/monkey.png -d /content/SyncDreamer-hf/hf_demo/examples -o monkey.png\n",
        "!aria2c --console-log-level=error -c -x 16 -s 16 -k 1M https://huggingface.co/camenduru/SyncDreamer/resolve/main/teapot.png -d /content/SyncDreamer-hf/hf_demo/examples -o teapot.png\n",
        "\n",
        "!aria2c --console-log-level=error -c -x 16 -s 16 -k 1M https://huggingface.co/camenduru/SyncDreamer/resolve/main/camera-16.pkl -d /content/SyncDreamer-hf/meta_info -o camera-16.pkl\n",
        "\n",
        "!pip install -q diffusers pytorch_lightning transformers taming-transformers-rom1504 kornia webdataset gradio\n",
        "!pip install -q omegaconf einops pymcubes carvekit-colab open3d trimesh nerfacc fire segment_anything\n",
        "!pip install -q git+https://github.com/openai/CLIP.git\n",
        "\n",
        "!python app.py"
      ]
    }
  ],
  "metadata": {
    "accelerator": "GPU",
    "colab": {
      "gpuType": "T4",
      "provenance": []
    },
    "kernelspec": {
      "display_name": "Python 3",
      "name": "python3"
    },
    "language_info": {
      "name": "python"
    }
  },
  "nbformat": 4,
  "nbformat_minor": 0
}
